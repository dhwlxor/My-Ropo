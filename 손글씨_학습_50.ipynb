{
  "nbformat": 4,
  "nbformat_minor": 0,
  "metadata": {
    "colab": {
      "provenance": [],
      "gpuType": "T4",
      "authorship_tag": "ABX9TyNyU5UH3rmv8pzWLsrWthi1",
      "include_colab_link": true
    },
    "kernelspec": {
      "name": "python3",
      "display_name": "Python 3"
    },
    "language_info": {
      "name": "python"
    },
    "accelerator": "GPU"
  },
  "cells": [
    {
      "cell_type": "markdown",
      "metadata": {
        "id": "view-in-github",
        "colab_type": "text"
      },
      "source": [
        "<a href=\"https://colab.research.google.com/github/dhwlxor/My-Ropo/blob/main/%EC%86%90%EA%B8%80%EC%94%A8_%ED%95%99%EC%8A%B5_50.ipynb\" target=\"_parent\"><img src=\"https://colab.research.google.com/assets/colab-badge.svg\" alt=\"Open In Colab\"/></a>"
      ]
    },
    {
      "cell_type": "code",
      "execution_count": null,
      "metadata": {
        "colab": {
          "base_uri": "https://localhost:8080/",
          "height": 1000
        },
        "id": "M8doP_FE8DPk",
        "outputId": "9cb30e79-7773-46e2-e0b8-e0d0ac2babcd"
      },
      "outputs": [
        {
          "output_type": "stream",
          "name": "stdout",
          "text": [
            "Epoch 1/50\n",
            "1688/1688 - 9s - 5ms/step - accuracy: 0.9228 - loss: 0.2569 - val_accuracy: 0.9810 - val_loss: 0.0723\n",
            "Epoch 2/50\n",
            "1688/1688 - 5s - 3ms/step - accuracy: 0.9679 - loss: 0.1087 - val_accuracy: 0.9852 - val_loss: 0.0535\n",
            "Epoch 3/50\n",
            "1688/1688 - 4s - 3ms/step - accuracy: 0.9743 - loss: 0.0839 - val_accuracy: 0.9882 - val_loss: 0.0453\n",
            "Epoch 4/50\n",
            "1688/1688 - 6s - 3ms/step - accuracy: 0.9786 - loss: 0.0688 - val_accuracy: 0.9870 - val_loss: 0.0466\n",
            "Epoch 5/50\n",
            "1688/1688 - 4s - 3ms/step - accuracy: 0.9823 - loss: 0.0568 - val_accuracy: 0.9883 - val_loss: 0.0416\n",
            "Epoch 6/50\n",
            "1688/1688 - 5s - 3ms/step - accuracy: 0.9843 - loss: 0.0480 - val_accuracy: 0.9895 - val_loss: 0.0404\n",
            "Epoch 7/50\n",
            "1688/1688 - 5s - 3ms/step - accuracy: 0.9856 - loss: 0.0457 - val_accuracy: 0.9905 - val_loss: 0.0394\n",
            "Epoch 8/50\n",
            "1688/1688 - 4s - 3ms/step - accuracy: 0.9873 - loss: 0.0381 - val_accuracy: 0.9898 - val_loss: 0.0410\n",
            "Epoch 9/50\n",
            "1688/1688 - 6s - 3ms/step - accuracy: 0.9876 - loss: 0.0361 - val_accuracy: 0.9873 - val_loss: 0.0498\n",
            "Epoch 10/50\n",
            "1688/1688 - 5s - 3ms/step - accuracy: 0.9891 - loss: 0.0319 - val_accuracy: 0.9890 - val_loss: 0.0404\n",
            "Epoch 11/50\n",
            "1688/1688 - 5s - 3ms/step - accuracy: 0.9901 - loss: 0.0299 - val_accuracy: 0.9905 - val_loss: 0.0407\n",
            "Epoch 12/50\n",
            "1688/1688 - 5s - 3ms/step - accuracy: 0.9904 - loss: 0.0282 - val_accuracy: 0.9900 - val_loss: 0.0402\n",
            "Epoch 13/50\n",
            "1688/1688 - 5s - 3ms/step - accuracy: 0.9911 - loss: 0.0258 - val_accuracy: 0.9910 - val_loss: 0.0393\n",
            "Epoch 14/50\n",
            "1688/1688 - 5s - 3ms/step - accuracy: 0.9918 - loss: 0.0258 - val_accuracy: 0.9900 - val_loss: 0.0408\n",
            "Epoch 15/50\n",
            "1688/1688 - 5s - 3ms/step - accuracy: 0.9927 - loss: 0.0214 - val_accuracy: 0.9913 - val_loss: 0.0460\n",
            "Epoch 16/50\n",
            "1688/1688 - 6s - 3ms/step - accuracy: 0.9921 - loss: 0.0231 - val_accuracy: 0.9917 - val_loss: 0.0463\n",
            "Epoch 17/50\n",
            "1688/1688 - 5s - 3ms/step - accuracy: 0.9926 - loss: 0.0211 - val_accuracy: 0.9895 - val_loss: 0.0368\n",
            "Epoch 18/50\n",
            "1688/1688 - 5s - 3ms/step - accuracy: 0.9931 - loss: 0.0207 - val_accuracy: 0.9907 - val_loss: 0.0408\n",
            "Epoch 19/50\n",
            "1688/1688 - 5s - 3ms/step - accuracy: 0.9931 - loss: 0.0204 - val_accuracy: 0.9910 - val_loss: 0.0443\n",
            "Epoch 20/50\n",
            "1688/1688 - 5s - 3ms/step - accuracy: 0.9934 - loss: 0.0196 - val_accuracy: 0.9905 - val_loss: 0.0397\n",
            "Epoch 21/50\n",
            "1688/1688 - 5s - 3ms/step - accuracy: 0.9942 - loss: 0.0162 - val_accuracy: 0.9913 - val_loss: 0.0476\n",
            "Epoch 22/50\n",
            "1688/1688 - 5s - 3ms/step - accuracy: 0.9937 - loss: 0.0178 - val_accuracy: 0.9910 - val_loss: 0.0425\n",
            "Epoch 23/50\n",
            "1688/1688 - 5s - 3ms/step - accuracy: 0.9947 - loss: 0.0156 - val_accuracy: 0.9907 - val_loss: 0.0475\n",
            "Epoch 24/50\n",
            "1688/1688 - 5s - 3ms/step - accuracy: 0.9941 - loss: 0.0172 - val_accuracy: 0.9905 - val_loss: 0.0469\n",
            "Epoch 25/50\n",
            "1688/1688 - 5s - 3ms/step - accuracy: 0.9946 - loss: 0.0167 - val_accuracy: 0.9908 - val_loss: 0.0471\n",
            "Epoch 26/50\n",
            "1688/1688 - 5s - 3ms/step - accuracy: 0.9949 - loss: 0.0150 - val_accuracy: 0.9892 - val_loss: 0.0480\n",
            "Epoch 27/50\n",
            "1688/1688 - 10s - 6ms/step - accuracy: 0.9946 - loss: 0.0156 - val_accuracy: 0.9907 - val_loss: 0.0488\n",
            "Epoch 28/50\n",
            "1688/1688 - 5s - 3ms/step - accuracy: 0.9942 - loss: 0.0163 - val_accuracy: 0.9897 - val_loss: 0.0569\n",
            "Epoch 29/50\n",
            "1688/1688 - 5s - 3ms/step - accuracy: 0.9954 - loss: 0.0135 - val_accuracy: 0.9908 - val_loss: 0.0572\n",
            "Epoch 30/50\n",
            "1688/1688 - 5s - 3ms/step - accuracy: 0.9953 - loss: 0.0144 - val_accuracy: 0.9913 - val_loss: 0.0463\n",
            "Epoch 31/50\n",
            "1688/1688 - 4s - 3ms/step - accuracy: 0.9953 - loss: 0.0142 - val_accuracy: 0.9908 - val_loss: 0.0475\n",
            "Epoch 32/50\n",
            "1688/1688 - 6s - 3ms/step - accuracy: 0.9951 - loss: 0.0147 - val_accuracy: 0.9907 - val_loss: 0.0490\n",
            "Epoch 33/50\n",
            "1688/1688 - 4s - 3ms/step - accuracy: 0.9954 - loss: 0.0147 - val_accuracy: 0.9910 - val_loss: 0.0441\n",
            "Epoch 34/50\n",
            "1688/1688 - 5s - 3ms/step - accuracy: 0.9959 - loss: 0.0117 - val_accuracy: 0.9907 - val_loss: 0.0504\n",
            "Epoch 35/50\n",
            "1688/1688 - 5s - 3ms/step - accuracy: 0.9959 - loss: 0.0116 - val_accuracy: 0.9903 - val_loss: 0.0489\n",
            "Epoch 36/50\n",
            "1688/1688 - 5s - 3ms/step - accuracy: 0.9959 - loss: 0.0127 - val_accuracy: 0.9910 - val_loss: 0.0475\n",
            "Epoch 37/50\n",
            "1688/1688 - 5s - 3ms/step - accuracy: 0.9958 - loss: 0.0123 - val_accuracy: 0.9903 - val_loss: 0.0483\n",
            "Epoch 38/50\n",
            "1688/1688 - 5s - 3ms/step - accuracy: 0.9954 - loss: 0.0138 - val_accuracy: 0.9917 - val_loss: 0.0518\n",
            "Epoch 39/50\n",
            "1688/1688 - 6s - 3ms/step - accuracy: 0.9960 - loss: 0.0117 - val_accuracy: 0.9913 - val_loss: 0.0462\n",
            "Epoch 40/50\n",
            "1688/1688 - 5s - 3ms/step - accuracy: 0.9959 - loss: 0.0126 - val_accuracy: 0.9915 - val_loss: 0.0548\n",
            "Epoch 41/50\n",
            "1688/1688 - 4s - 3ms/step - accuracy: 0.9961 - loss: 0.0118 - val_accuracy: 0.9910 - val_loss: 0.0483\n",
            "Epoch 42/50\n",
            "1688/1688 - 6s - 3ms/step - accuracy: 0.9955 - loss: 0.0136 - val_accuracy: 0.9905 - val_loss: 0.0571\n",
            "Epoch 43/50\n",
            "1688/1688 - 10s - 6ms/step - accuracy: 0.9964 - loss: 0.0119 - val_accuracy: 0.9912 - val_loss: 0.0485\n",
            "Epoch 44/50\n",
            "1688/1688 - 5s - 3ms/step - accuracy: 0.9958 - loss: 0.0125 - val_accuracy: 0.9917 - val_loss: 0.0576\n",
            "Epoch 45/50\n",
            "1688/1688 - 5s - 3ms/step - accuracy: 0.9964 - loss: 0.0106 - val_accuracy: 0.9918 - val_loss: 0.0538\n",
            "Epoch 46/50\n",
            "1688/1688 - 5s - 3ms/step - accuracy: 0.9963 - loss: 0.0116 - val_accuracy: 0.9922 - val_loss: 0.0439\n",
            "Epoch 47/50\n",
            "1688/1688 - 5s - 3ms/step - accuracy: 0.9965 - loss: 0.0107 - val_accuracy: 0.9915 - val_loss: 0.0505\n",
            "Epoch 48/50\n",
            "1688/1688 - 6s - 3ms/step - accuracy: 0.9968 - loss: 0.0096 - val_accuracy: 0.9910 - val_loss: 0.0477\n",
            "Epoch 49/50\n",
            "1688/1688 - 10s - 6ms/step - accuracy: 0.9961 - loss: 0.0113 - val_accuracy: 0.9922 - val_loss: 0.0498\n",
            "Epoch 50/50\n",
            "1688/1688 - 9s - 6ms/step - accuracy: 0.9964 - loss: 0.0111 - val_accuracy: 0.9912 - val_loss: 0.0450\n"
          ]
        },
        {
          "output_type": "stream",
          "name": "stderr",
          "text": [
            "WARNING:absl:You are saving your model as an HDF5 file via `model.save()` or `keras.saving.save_model(model)`. This file format is considered legacy. We recommend using instead the native Keras format, e.g. `model.save('my_model.keras')` or `keras.saving.save_model(model, 'my_model.keras')`. \n"
          ]
        },
        {
          "output_type": "stream",
          "name": "stdout",
          "text": [
            "✅ 테스트 정확도: 99.09%\n",
            "📁 모델이 '2mnist_cnn_model.h5'로 저장되었습니다.\n"
          ]
        },
        {
          "output_type": "display_data",
          "data": {
            "text/plain": [
              "<IPython.core.display.Javascript object>"
            ],
            "application/javascript": [
              "\n",
              "    async function download(id, filename, size) {\n",
              "      if (!google.colab.kernel.accessAllowed) {\n",
              "        return;\n",
              "      }\n",
              "      const div = document.createElement('div');\n",
              "      const label = document.createElement('label');\n",
              "      label.textContent = `Downloading \"${filename}\": `;\n",
              "      div.appendChild(label);\n",
              "      const progress = document.createElement('progress');\n",
              "      progress.max = size;\n",
              "      div.appendChild(progress);\n",
              "      document.body.appendChild(div);\n",
              "\n",
              "      const buffers = [];\n",
              "      let downloaded = 0;\n",
              "\n",
              "      const channel = await google.colab.kernel.comms.open(id);\n",
              "      // Send a message to notify the kernel that we're ready.\n",
              "      channel.send({})\n",
              "\n",
              "      for await (const message of channel.messages) {\n",
              "        // Send a message to notify the kernel that we're ready.\n",
              "        channel.send({})\n",
              "        if (message.buffers) {\n",
              "          for (const buffer of message.buffers) {\n",
              "            buffers.push(buffer);\n",
              "            downloaded += buffer.byteLength;\n",
              "            progress.value = downloaded;\n",
              "          }\n",
              "        }\n",
              "      }\n",
              "      const blob = new Blob(buffers, {type: 'application/binary'});\n",
              "      const a = document.createElement('a');\n",
              "      a.href = window.URL.createObjectURL(blob);\n",
              "      a.download = filename;\n",
              "      div.appendChild(a);\n",
              "      a.click();\n",
              "      div.remove();\n",
              "    }\n",
              "  "
            ]
          },
          "metadata": {}
        },
        {
          "output_type": "display_data",
          "data": {
            "text/plain": [
              "<IPython.core.display.Javascript object>"
            ],
            "application/javascript": [
              "download(\"download_5e7a0a4b-fcca-4174-80d4-66d662376de0\", \"2mnist_cnn_model.h5\", 8362440)"
            ]
          },
          "metadata": {}
        }
      ],
      "source": [
        "# 라이브러리 임포트\n",
        "import tensorflow as tf\n",
        "from tensorflow.keras.datasets import mnist\n",
        "from tensorflow.keras.models import Sequential\n",
        "from tensorflow.keras.layers import Conv2D, MaxPooling2D, Flatten, Dense, Dropout\n",
        "from tensorflow.keras.utils import to_categorical\n",
        "from tensorflow.keras.optimizers import Adam\n",
        "\n",
        "# MNIST 데이터 불러오기\n",
        "(x_train, y_train), (x_test, y_test) = mnist.load_data()\n",
        "\n",
        "# 전처리: reshape + normalize\n",
        "x_train = x_train.reshape(-1, 28, 28, 1).astype('float32') / 255.0\n",
        "x_test = x_test.reshape(-1, 28, 28, 1).astype('float32') / 255.0\n",
        "y_train = to_categorical(y_train, 10)\n",
        "y_test = to_categorical(y_test, 10)\n",
        "\n",
        "# CNN 모델 구성\n",
        "model = Sequential([\n",
        "    Conv2D(32, kernel_size=3, activation='relu', input_shape=(28,28,1)),\n",
        "    MaxPooling2D(pool_size=2),\n",
        "    Dropout(0.25),\n",
        "    Flatten(),\n",
        "    Dense(128, activation='relu'),\n",
        "    Dropout(0.4),\n",
        "    Dense(10, activation='softmax')\n",
        "])\n",
        "\n",
        "# 모델 컴파일 및 학습\n",
        "model.compile(optimizer=Adam(), loss='categorical_crossentropy', metrics=['accuracy'])\n",
        "model.fit(x_train, y_train, epochs=50, validation_split=0.1, verbose=2)\n",
        "\n",
        "# 테스트 정확도 확인\n",
        "test_loss, test_acc = model.evaluate(x_test, y_test, verbose=0)\n",
        "print(f\"✅ 테스트 정확도: {test_acc*100:.2f}%\")\n",
        "\n",
        "# .h5 파일로 저장\n",
        "model.save('2mnist_cnn_model.h5')\n",
        "print(\"📁 모델이 '2mnist_cnn_model.h5'로 저장되었습니다.\")\n",
        "\n",
        "from google.colab import files\n",
        "files.download('2mnist_cnn_model.h5')\n"
      ]
    }
  ]
}